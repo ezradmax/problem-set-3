{
 "cells": [
  {
   "cell_type": "code",
   "execution_count": 1,
   "metadata": {},
   "outputs": [],
   "source": [
    "#Import packages\n",
    "import pandas as pd\n",
    "import numpy as np\n",
    "import matplotlib.pyplot as plt\n",
    "\n",
    "from matplotlib.lines import Line2D\n",
    "\n",
    "from sklearn import ensemble\n",
    "from sklearn import linear_model\n",
    "from sklearn import model_selection\n",
    "from sklearn import svm\n",
    "from sklearn import metrics\n",
    "from scipy import optimize"
   ]
  },
  {
   "cell_type": "code",
   "execution_count": 2,
   "metadata": {},
   "outputs": [],
   "source": [
    "#Load nes data\n",
    "df=pd.read_csv('/Users/emax/Documents/nes2008.csv')\n",
    "\n",
    "#Set range of shrinkage values\n",
    "l_range=[i/10000 for i in range(1,400,10)]\n",
    "\n",
    "#Split dataframe into traiing and testing data\n",
    "msk = np.random.rand(len(df)) < 0.75\n",
    "df_train=df[msk]\n",
    "df_test=df[~msk]\n",
    "\n",
    "x_train=df_train[['female','age','educ','dem','rep']]\n",
    "y_train=np.array(df_train[['biden']]).reshape(len(x_train),)\n",
    "\n",
    "x_test=df_test[['female','age','educ','dem','rep']]\n",
    "y_test=np.array(df_test[['biden']]).reshape(len(x_test),)"
   ]
  },
  {
   "cell_type": "code",
   "execution_count": 3,
   "metadata": {},
   "outputs": [],
   "source": [
    "def get_mse_boosting(shrinkage_rate, train_f_data, train_r_data,test_f_data, test_r_data):\n",
    "    '''\n",
    "    A function to perform boosting with 1000 trees and given shrinkage rate\n",
    "    and to return resulting training set and testing set MSEs.\n",
    "    \n",
    "    Inputs:\n",
    "        -train_f_data: training feature data\n",
    "        -train_r_data: training response data\n",
    "        -test_f_data: testing feature data\n",
    "        -test_r_data: testing response data\n",
    "        -shrinkage_rate: lambda value (shrinkage rate)\n",
    "    Returns:\n",
    "        -floats: training set MSE, testing set MSE\n",
    "    '''\n",
    "    #Import and train gradient boosting model with 1000 trees.\n",
    "    dtc=ensemble.GradientBoostingRegressor(learning_rate=shrinkage_rate,n_estimators=1000)\n",
    "    dtc.fit(train_f_data,train_r_data)\n",
    "    \n",
    "    #Create new\n",
    "    train_mse_df=pd.DataFrame({'pred':dtc.predict(train_f_data),'actual':train_r_data})\n",
    "    train_mse_df['se']=train_mse_df.apply(lambda row: (row['pred']-row['actual'])**2,axis=1)\n",
    "    train_mse=sum(train_mse_df['se'])/len(train_mse_df)\n",
    "                                    \n",
    "    test_mse_df=pd.DataFrame({'pred':dtc.predict(test_f_data),'actual':test_r_data})\n",
    "    test_mse_df['se']=test_mse_df.apply(lambda row: (row['pred']-row['actual'])**2,axis=1)\n",
    "    test_mse=sum(test_mse_df['se'])/len(test_mse_df)\n",
    "    \n",
    "    return train_mse,test_mse\n",
    "\n",
    "#Loop over shrinkage values and record MSEs\n",
    "mses=[get_mse_boosting(l,x_train,y_train,x_test,y_test) for l in l_range]\n",
    "train_mses, test_mses = [mse_pair[0] for mse_pair in mses], [mse_pair[1] for mse_pair in mses]"
   ]
  },
  {
   "cell_type": "code",
   "execution_count": 4,
   "metadata": {},
   "outputs": [],
   "source": [
    "#Get new shrinkage values range\n",
    "new_l_range=[i/10000 for i in range(100,400,10)]\n",
    "#Loop over new shrinkage values and record MSEs\n",
    "new_mses=[get_mse_boosting(l,x_train,y_train,x_test,y_test) for l in new_l_range]\n",
    "new_train_mses, new_test_mses = [mse_pair[0] for mse_pair in new_mses], [mse_pair[1] for mse_pair in new_mses]"
   ]
  },
  {
   "cell_type": "code",
   "execution_count": 5,
   "metadata": {},
   "outputs": [
    {
     "data": {
      "text/plain": [
       "Text(0, 0.5, '$\\\\lambda=.010,.011,\\\\dots$')"
      ]
     },
     "execution_count": 5,
     "metadata": {},
     "output_type": "execute_result"
    },
    {
     "data": {
      "image/png": "[encoded data removed]",
      "text/plain": [
       "<Figure size 360x216 with 2 Axes>"
      ]
     },
     "metadata": {
      "needs_background": "light"
     },
     "output_type": "display_data"
    }
   ],
   "source": [
    "#Plot MSes\n",
    "fig, axes = plt.subplots(nrows=1, ncols=2, figsize=(5, 3))\n",
    "\n",
    "plt.subplot(2, 1, 1)\n",
    "plt.scatter(l_range,train_mses,color='blue',s=2)\n",
    "plt.scatter(l_range,test_mses,color='orange',s=2)\n",
    "custom_lines = [Line2D([0],[0], color='blue',lw=2),Line2D([0],[0], color='orange',lw=2),Line2D([0],[0], color='green',lw=2)]\n",
    "plt.legend(custom_lines, ['Training MSE', 'Testing MSE'])\n",
    "plt.title('Train/Test set MSEs across shrinkage values')\n",
    "plt.ylabel('$\\lambda=.0001,.0011,\\dots$')\n",
    "\n",
    "plt.subplot(2, 1, 2)\n",
    "plt.scatter(new_l_range,new_train_mses,color='blue',s=2)\n",
    "plt.scatter(new_l_range,new_test_mses,color='orange',s=2)\n",
    "plt.ylabel('$\\lambda=.010,.011,\\dots$')"
   ]
  },
  {
   "cell_type": "markdown",
   "metadata": {},
   "source": [
    "We have two histograms above: the first showing the train set and test set MSEs from boosting with shrinkage values $\\lambda\\in \\{.0001,.0011,.0021,\\dotsc,.0391\\}$ and the second showing the train set and test set MSEs from boosting with shrinkage values $\\lambda\\in \\{.010,.02-,\\dotsc,.039\\}$. Interestingly, train MSE values appear to decrease significantly in the range from $.0011$ to $.010$, from roughly 560 to <375. By comparison the test MSE values are fairly stable--they decrease initially and then slowly increase at (roughly) a linear rate after .005 or so. The test MSE values tend to hover in the range 375-385 for $.002\\leq \\lambda\\.03$.\n",
    "\n",
    "If we want to directly copmare training and testing MSE values over the ranges given, we can see that the impact of our choosing $\\tilde{\\lambda}=\\lambda+.0001$ is negligible for larger $\\lambda$ values (see below.)"
   ]
  },
  {
   "cell_type": "code",
   "execution_count": 6,
   "metadata": {},
   "outputs": [
    {
     "data": {
      "text/plain": [
       "Text(0, 0.5, 'Testing set MSEs')"
      ]
     },
     "execution_count": 6,
     "metadata": {},
     "output_type": "execute_result"
    },
    {
     "data": {
      "image/png": "[encoded data removed]",
      "text/plain": [
       "<Figure size 360x216 with 2 Axes>"
      ]
     },
     "metadata": {
      "needs_background": "light"
     },
     "output_type": "display_data"
    }
   ],
   "source": [
    "#Plot MSes\n",
    "fig, axes = plt.subplots(nrows=1, ncols=2, figsize=(5, 3))\n",
    "\n",
    "plt.subplot(2, 1, 1)\n",
    "plt.scatter(l_range,train_mses,color='green',s=2)\n",
    "plt.scatter(new_l_range,new_train_mses,color='yellow',s=2)\n",
    "plt.title('Train/Test set MSEs across shrinkage values')\n",
    "custom_lines = [Line2D([0],[0], color='green',lw=2),Line2D([0],[0], color='yellow',lw=2),Line2D([0],[0], color='green',lw=2)]\n",
    "plt.legend(custom_lines, ['$\\lambda=.0001,.0011,\\dots$', '$\\lambda=.01,\\dots$'])\n",
    "plt.ylabel('Training set MSEs')\n",
    "\n",
    "plt.subplot(2, 1, 2)\n",
    "plt.scatter(l_range,test_mses,color='green',s=2)\n",
    "plt.scatter(new_l_range,new_test_mses,color='yellow',s=2)\n",
    "plt.ylabel('Testing set MSEs')"
   ]
  },
  {
   "cell_type": "markdown",
   "metadata": {},
   "source": [
    "As stated, the difference of shifting our initial shrinkage values from $.0001$ to $.01$ is miniscule. More generally, we observe that as $\\lambda$ increases our training error reduces continuously (albeit at a diminishing rate,) while for values $\\lambda \\geq .002$ or so, our testing error increases in $\\lambda$ in a linear manner. This would suggest that higher $\\lambda$ values lead to overfitting, since higher shrinkage values mean that more weight is given our loss function in each step of our boosting, and therefore that we force a better fit on the training data. \n",
    "\n",
    "So in conclusion: very small shrinkage values ($\\lambda <.002$) give high training and testing MSEs (underfitting), while higher shrinkage values drive lower training MSEs and higher testing MSE (overfitting). We can therefore say that, speaking very roughly, $\\lambda=.01$ is a reasonably good choice for our shrinkage value here. Of course, this is not an obvious or easy call to make; still, since from the chart above lower $\\lambda$ values will decrease testing set errors only slightly, while significantly increasing training set errors, and since we know that lower shrinkage values can be very computationally expensive, it seems likely that $\\lambda=.01$ is a pretty decent choice for our shrinkage value."
   ]
  },
  {
   "cell_type": "code",
   "execution_count": 7,
   "metadata": {},
   "outputs": [
    {
     "data": {
      "text/plain": [
       "782.3256880733945"
      ]
     },
     "execution_count": 7,
     "metadata": {},
     "output_type": "execute_result"
    }
   ],
   "source": [
    "btc=ensemble.BaggingClassifier(n_estimators=1000).fit(x_train,y_train)\n",
    "test_mse_df=pd.DataFrame({'pred':btc.predict(x_test),'actual':y_test})\n",
    "test_mse_df['se']=test_mse_df.apply(lambda row: (row['pred']-row['actual'])**2,axis=1)\n",
    "test_mse_bagging=sum(test_mse_df['se'])/len(test_mse_df)\n",
    "\n",
    "test_mse_bagging"
   ]
  },
  {
   "cell_type": "markdown",
   "metadata": {},
   "source": [
    "Using bagging with $1000$ trees, we get a testing MSE value of 782.33."
   ]
  },
  {
   "cell_type": "code",
   "execution_count": 8,
   "metadata": {},
   "outputs": [
    {
     "data": {
      "text/plain": [
       "762.4380733944954"
      ]
     },
     "execution_count": 8,
     "metadata": {},
     "output_type": "execute_result"
    }
   ],
   "source": [
    "rdmf=ensemble.RandomForestClassifier(n_estimators=1000).fit(x_train,y_train)\n",
    "test_mse_df=pd.DataFrame({'pred':rdmf.predict(x_test),'actual':y_test})\n",
    "test_mse_df['se']=test_mse_df.apply(lambda row: (row['pred']-row['actual'])**2,axis=1)\n",
    "test_mse_random_forrest=sum(test_mse_df['se'])/len(test_mse_df)\n",
    "\n",
    "test_mse_random_forrest"
   ]
  },
  {
   "cell_type": "markdown",
   "metadata": {},
   "source": [
    "Using random forrest with $1000$ trees, we get a testing MSE value of 762.44."
   ]
  },
  {
   "cell_type": "code",
   "execution_count": 9,
   "metadata": {},
   "outputs": [
    {
     "data": {
      "text/plain": [
       "416.0772992513134"
      ]
     },
     "execution_count": 9,
     "metadata": {},
     "output_type": "execute_result"
    }
   ],
   "source": [
    "linreg=linear_model.LinearRegression().fit(x_train, y_train)\n",
    "test_mse_df=pd.DataFrame({'pred':linreg.predict(x_test),'actual':y_test})\n",
    "test_mse_df['se']=test_mse_df.apply(lambda row: (row['pred']-row['actual'])**2,axis=1)\n",
    "test_mse_linear=sum(test_mse_df['se'])/len(test_mse_df)\n",
    "\n",
    "test_mse_linear"
   ]
  },
  {
   "cell_type": "markdown",
   "metadata": {},
   "source": [
    "From linear regression, we get a testing MSE value of 416.08."
   ]
  },
  {
   "cell_type": "code",
   "execution_count": 10,
   "metadata": {},
   "outputs": [
    {
     "data": {
      "text/html": [
       "<div>\n",
       "<style scoped>\n",
       "    .dataframe tbody tr th:only-of-type {\n",
       "        vertical-align: middle;\n",
       "    }\n",
       "\n",
       "    .dataframe tbody tr th {\n",
       "        vertical-align: top;\n",
       "    }\n",
       "\n",
       "    .dataframe thead th {\n",
       "        text-align: right;\n",
       "    }\n",
       "</style>\n",
       "<table border=\"1\" class=\"dataframe\">\n",
       "  <thead>\n",
       "    <tr style=\"text-align: right;\">\n",
       "      <th></th>\n",
       "      <th>Fit Type</th>\n",
       "      <th>Test MSE</th>\n",
       "    </tr>\n",
       "  </thead>\n",
       "  <tbody>\n",
       "    <tr>\n",
       "      <th>0</th>\n",
       "      <td>Boosting ($\\lambda=.01$)</td>\n",
       "      <td>432.92</td>\n",
       "    </tr>\n",
       "    <tr>\n",
       "      <th>1</th>\n",
       "      <td>Bagging</td>\n",
       "      <td>782.33</td>\n",
       "    </tr>\n",
       "    <tr>\n",
       "      <th>2</th>\n",
       "      <td>Random Forrest</td>\n",
       "      <td>762.44</td>\n",
       "    </tr>\n",
       "    <tr>\n",
       "      <th>3</th>\n",
       "      <td>Linear Regression</td>\n",
       "      <td>416.08</td>\n",
       "    </tr>\n",
       "  </tbody>\n",
       "</table>\n",
       "</div>"
      ],
      "text/plain": [
       "                   Fit Type  Test MSE\n",
       "0  Boosting ($\\lambda=.01$)    432.92\n",
       "1                   Bagging    782.33\n",
       "2            Random Forrest    762.44\n",
       "3         Linear Regression    416.08"
      ]
     },
     "execution_count": 10,
     "metadata": {},
     "output_type": "execute_result"
    }
   ],
   "source": [
    "error_table=pd.DataFrame({'Fit Type':['Boosting ($\\lambda=.01$)','Bagging','Random Forrest','Linear Regression'],'Test MSE':[round(new_test_mses[0],2),round(test_mse_bagging,2),round(test_mse_random_forrest,2),round(test_mse_linear,2)]})\n",
    "error_table"
   ]
  },
  {
   "cell_type": "markdown",
   "metadata": {},
   "source": [
    "Looking at the table above, we see that boosting with the \"optimal\" $\\lambda$ value and linear regression give low test MSEs, while bagging and random forrest results give far higher test MSEs.\n",
    "\n",
    "A good explanation would be overfitting. Last week, we saw that our linear model coefficients and overall MSE was consistent across choices of training/testing sets--suggesting that the linear model was actually a good fit for what was a very noisy dataset. In keeping with this, we see that boosting with a lower $\\lambda$ value--though giving a slightly worse test MSE than our linear model--has also fit a reasonably robust model on our data. On the other hand,  random forrest and linear regression models put more weight on the loss function during training, i.e. these models make more significant adjustments to minimize errors against the training data. Under the hypothesis from last week that these data are very noisy, we would expect the resulting models to be overfit, having accounted for too much of the irreducible noise in our training set. In keeping with this, we see that bagging and random forrest techniques result in very high test MSE values (roughly 782,762) respectively.\n",
    "\n",
    "In conclusion, it seems that low-$\\lambda$ boosting and linear regression--by de-emphasizing and eliminiating higher-order corrections/approximations, respectively--are much better choices to get a consistent fit on a noisy dataset, compared to random forrest and bagging approaches may be useful in other contexts but in this case are very prone to overfitting."
   ]
  },
  {
   "cell_type": "code",
   "execution_count": 11,
   "metadata": {},
   "outputs": [],
   "source": [
    "df=pd.read_csv('/Users/emax/Documents/OJ.csv')\n",
    "del df['Unnamed: 0']\n",
    "df['Response']=df.apply(lambda row: int(row['Purchase']=='CH'), axis=1)\n",
    "new_series=df.apply(lambda row: int(str(row['Store7'])=='Yes'), axis=1)\n",
    "del df['Store7']\n",
    "df['Store7']=new_series\n",
    "del df['Purchase']\n",
    "\n",
    "df_train, df_test = model_selection.train_test_split(df, train_size=800)\n",
    "\n",
    "f_train=df_train[['WeekofPurchase', 'StoreID', 'PriceCH',\n",
    "       'PriceMM', 'DiscCH', 'DiscMM', 'SpecialCH', 'SpecialMM', 'LoyalCH',\n",
    "       'SalePriceMM', 'SalePriceCH', 'PriceDiff', 'Store7', 'PctDiscMM',\n",
    "       'PctDiscCH', 'ListPriceDiff', 'STORE']]\n",
    "r_train=np.array(df_train[['Response']]).reshape(len(df_train),)\n",
    "\n",
    "f_test=df_test[['WeekofPurchase', 'StoreID', 'PriceCH',\n",
    "       'PriceMM', 'DiscCH', 'DiscMM', 'SpecialCH', 'SpecialMM', 'LoyalCH',\n",
    "       'SalePriceMM', 'SalePriceCH', 'PriceDiff', 'Store7', 'PctDiscMM',\n",
    "       'PctDiscCH', 'ListPriceDiff', 'STORE']]\n",
    "r_test=np.array(df_test[['Response']]).reshape(len(df_test),)"
   ]
  },
  {
   "cell_type": "code",
   "execution_count": 12,
   "metadata": {},
   "outputs": [
    {
     "data": {
      "text/plain": [
       "(0.38125, 0.41481481481481486)"
      ]
     },
     "execution_count": 12,
     "metadata": {},
     "output_type": "execute_result"
    }
   ],
   "source": [
    "svc=svm.SVC(C=.01).fit(f_train,r_train)\n",
    "\n",
    "#Get train error rate\n",
    "r_train_pred=svc.predict(f_train)\n",
    "train_error_rate=metrics.zero_one_loss(r_train_pred,r_train)\n",
    "\n",
    "#Get test error rate\n",
    "r_test_pred=svc.predict(f_test)\n",
    "test_error_rate=metrics.zero_one_loss(r_test_pred, r_test)\n",
    "\n",
    "train_error_rate,test_error_rate"
   ]
  },
  {
   "cell_type": "markdown",
   "metadata": {},
   "source": [
    "For the SVC specified above, our training error rate is .38, while our testing error rate is .41. We can see the assosciated confusion matrix below as well (recall that 1=CH, 0=MM.) In particular, the classifier we have trained misidentifies about 38-41% of our responses in both the training and testing datasets. This isn't great, but we can't say yet whether this error rate is because of our choice of SVC, or our choice of cost $C=.01$, or because of the underlying data."
   ]
  },
  {
   "cell_type": "code",
   "execution_count": 13,
   "metadata": {},
   "outputs": [
    {
     "name": "stdout",
     "output_type": "stream",
     "text": [
      "Normalized confusion matrix\n"
     ]
    },
    {
     "data": {
      "image/png": "[encoded data removed]",
      "text/plain": [
       "<Figure size 432x288 with 2 Axes>"
      ]
     },
     "metadata": {
      "needs_background": "light"
     },
     "output_type": "display_data"
    }
   ],
   "source": [
    "#Get confusion matrix\n",
    "titles_options = [(\"Normalized confusion matrix\", 'true')]\n",
    "for title, normalize in titles_options:\n",
    "    disp = metrics.plot_confusion_matrix(svc, f_test, r_test,\n",
    "                                 cmap=plt.cm.Reds)\n",
    "    print(title)"
   ]
  },
  {
   "cell_type": "code",
   "execution_count": 14,
   "metadata": {},
   "outputs": [],
   "source": [
    "def get_error_rates(c):\n",
    "    '''\n",
    "    With data as above, return error rates as a function of cost (c).\n",
    "    '''\n",
    "    svc=svm.SVC(C=c).fit(f_train,r_train)\n",
    "    \n",
    "    #Get train error rate\n",
    "    r_train_pred=svc.predict(f_train)\n",
    "    train_error_rate=metrics.zero_one_loss(r_train_pred,r_train)\n",
    "\n",
    "    #Get test error rate\n",
    "    r_test_pred=svc.predict(f_test)\n",
    "    test_error_rate=metrics.zero_one_loss(r_test_pred, r_test)\n",
    "\n",
    "    return(train_error_rate,test_error_rate)\n",
    "\n",
    "#Error values to plot\n",
    "cost_range=[i/100 for i in range(1,50000,100)]\n",
    "errors=[get_error_rates(c) for c in cost_range]\n",
    "train_errors, test_errors=[error[0] for error in errors], [error[1] for error in errors]\n",
    "\n",
    "#Exact minimums\n",
    "def train_err_func(c):\n",
    "    return(get_error_rates(c)[0])\n",
    "def test_err_func(c):\n",
    "    return(get_error_rates(c)[1])"
   ]
  },
  {
   "cell_type": "code",
   "execution_count": 15,
   "metadata": {},
   "outputs": [],
   "source": [
    "#Exact minimum for train error\n",
    "train_err_min=optimize.minimize_scalar(train_err_func,bounds=[.01,500], method='bounded')\n",
    "\n",
    "#Exact minimum for test error\n",
    "test_err_min=optimize.minimize_scalar(test_err_func,bounds=[.01,500], method='bounded')"
   ]
  },
  {
   "cell_type": "code",
   "execution_count": 21,
   "metadata": {},
   "outputs": [
    {
     "data": {
      "text/plain": [
       "Text(0.5, 1.0, 'Training error rate vs. Cost')"
      ]
     },
     "execution_count": 21,
     "metadata": {},
     "output_type": "execute_result"
    },
    {
     "data": {
      "image/png": "[encoded data removed]",
      "text/plain": [
       "<Figure size 432x288 with 1 Axes>"
      ]
     },
     "metadata": {
      "needs_background": "light"
     },
     "output_type": "display_data"
    }
   ],
   "source": [
    "plt.scatter(cost_range,train_errors,color='blue',s=1)\n",
    "plt.axvline(train_err_min.x, color='green')\n",
    "\n",
    "custom_lines = [Line2D([0],[0], color='blue',lw=2),Line2D([0],[0], color='green',lw=2)]\n",
    "plt.legend(custom_lines, ['Training Error','Estimated Minimum'])\n",
    "plt.title('Training error rate vs. Cost')"
   ]
  },
  {
   "cell_type": "code",
   "execution_count": 22,
   "metadata": {},
   "outputs": [
    {
     "data": {
      "text/plain": [
       "Text(0.5, 1.0, 'Training error rate vs. Cost')"
      ]
     },
     "execution_count": 22,
     "metadata": {},
     "output_type": "execute_result"
    },
    {
     "data": {
      "image/png": "[encoded data removed]",
      "text/plain": [
       "<Figure size 432x288 with 1 Axes>"
      ]
     },
     "metadata": {
      "needs_background": "light"
     },
     "output_type": "display_data"
    }
   ],
   "source": [
    "plt.scatter(cost_range,test_errors, color='blue',s=1)\n",
    "plt.axvline(test_err_min.x, color='green')\n",
    "\n",
    "custom_lines = [Line2D([0],[0], color='blue',lw=2),Line2D([0],[0], color='green',lw=2)]\n",
    "plt.legend(custom_lines, ['Training Error','Estimated Minimum'])\n",
    "plt.title('Training error rate vs. Cost')"
   ]
  },
  {
   "cell_type": "markdown",
   "metadata": {},
   "source": [
    "Above, we have plotted and minimized training and testing errors against the cost $C$ used when training our SVMs. We have local minima for both testing and training MSEs when cost $C\\sim 400$; this value is obviously approximate, as the graph shows, but we use it as a rough approximation to the optimal SVM cost $\\tilde{C}$ below."
   ]
  },
  {
   "cell_type": "code",
   "execution_count": 18,
   "metadata": {},
   "outputs": [
    {
     "name": "stdout",
     "output_type": "stream",
     "text": [
      "Normalized confusion matrix\n"
     ]
    },
    {
     "data": {
      "text/plain": [
       "(0.19374999999999998, 0.2407407407407407)"
      ]
     },
     "execution_count": 18,
     "metadata": {},
     "output_type": "execute_result"
    },
    {
     "data": {
      "image/png": "[encoded data removed]",
      "text/plain": [
       "<Figure size 432x288 with 2 Axes>"
      ]
     },
     "metadata": {
      "needs_background": "light"
     },
     "output_type": "display_data"
    }
   ],
   "source": [
    "svc=svm.SVC(C=410).fit(f_train,r_train)\n",
    "\n",
    "#Get train error rate\n",
    "r_train_pred=svc.predict(f_train)\n",
    "train_error_rate=metrics.zero_one_loss(r_train_pred,r_train)\n",
    "\n",
    "#Get test error rate\n",
    "r_test_pred=svc.predict(f_test)\n",
    "test_error_rate=metrics.zero_one_loss(r_test_pred, r_test)\n",
    "\n",
    "#Get confusion matrix\n",
    "titles_options = [(\"Normalized confusion matrix\", 'true')]\n",
    "for title, normalize in titles_options:\n",
    "    disp = metrics.plot_confusion_matrix(svc, f_test, r_test,\n",
    "                                 cmap=plt.cm.Reds)\n",
    "    print(title)\n",
    "train_error_rate,test_error_rate"
   ]
  },
  {
   "cell_type": "markdown",
   "metadata": {},
   "source": [
    "The classifier with $C=410$ is a significant improvement over the classifier with $C=.01$. In particular, our error rates for training (<20%) and for testing (<25%) with the high-cost classifierare quite an improvement over the respective earlier rates (38%, 41%) from our low-cost classifier. So our new classifier certainly seems to be far better.\n",
    "\n",
    "One thing we might want to check, however, is whether our new classifier and old classifier make the same kind of mistakes. If the new classifier is truly \"tuned\", we should expect that it does not introduce new mistakes that the old classifier did not (for instance, by overemphasizing a coefficient in the new model which was overlooked in the old one, with the effect that, due to correlations within the data, the emphasis on the new classification covers up the old misclassifications but introduces new misclassifications on observations that the old model got right. This would be, I suppose, a kind of overfitting, though I'm not really sure.)\n",
    "\n",
    "This is hard to test, but one reasonable and quick sanity check for this effect would be to treat the predictions by our new classifier as our \"true\" values, and look at the error rate of the old classifier in predicting these outcomes. If the old classifier's error rate is higher using the fake \"true\" values (from the new, high-cost classifier) than with the true \"true\" values (as before,) we will know that we have a problem: it means our new classifier is introducing new errors in the data that the old classifier did not.\n",
    "\n",
    "Thischeck, though far from conclusive, will help us sure up the case for this new classifier being a \"tuned\" version of the old one, i.e. that the new classifier makes better predictions than the old one by and large, and makes largely the same types of errors as the old one (sugesting that such errors are inherent in the noisy data and will affect any SVM classifier we train.) To my mind, this is what is meant by an optimal or tuned classifier."
   ]
  },
  {
   "cell_type": "code",
   "execution_count": 19,
   "metadata": {},
   "outputs": [
    {
     "data": {
      "text/plain": [
       "(0.31000000000000005, 0.3222222222222222)"
      ]
     },
     "execution_count": 19,
     "metadata": {},
     "output_type": "execute_result"
    }
   ],
   "source": [
    "svc=svm.SVC(C=.01).fit(f_train,r_train)\n",
    "r_train_pred_new=svc.predict(f_train)\n",
    "r_test_pred_new=svc.predict(f_test)\n",
    "\n",
    "rel_train_error_rate=metrics.zero_one_loss(r_train_pred_new, r_train_pred)\n",
    "\n",
    "rel_test_error_rate=metrics.zero_one_loss(r_test_pred_new,r_test_pred)\n",
    "rel_train_error_rate, rel_test_error_rate"
   ]
  },
  {
   "cell_type": "markdown",
   "metadata": {},
   "source": [
    "As we had hoped, the old predictor does better against these data than it had originally, with its training error rate declining from 38% to 31% and its testing error rate declining 41% to 32% when we use the new data.\n",
    "\n",
    "This gives at least some weight to the hypothesis that the errors the new classifier is making are similar to the errors the old classifier was making, which in turns gives some weight to the hypothesisthat the new calssifier is pretty well tuned, up to some errors inherent to our data set/to the limitations of SVM. We can't go so far as to say that, and we can't say that our model is \"the\" tuned and optimal model (clearly, our choice of a high cost $C=410$ was quite rough, and looking at our plots of training/testing errors above it seems that higher costs for $C$ may produce SVMs that perform even better.) Still, we can say that it's a good deal better tuned than our original classification model with $C=.01$."
   ]
  }
 ],
 "metadata": {
  "kernelspec": {
   "display_name": "Python 3",
   "language": "python",
   "name": "python3"
  },
  "language_info": {
   "codemirror_mode": {
    "name": "ipython",
    "version": 3
   },
   "file_extension": ".py",
   "mimetype": "text/x-python",
   "name": "python",
   "nbconvert_exporter": "python",
   "pygments_lexer": "ipython3",
   "version": "3.7.3"
  }
 },
 "nbformat": 4,
 "nbformat_minor": 2
}
